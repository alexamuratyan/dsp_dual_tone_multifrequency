{
 "cells": [
  {
   "cell_type": "code",
   "execution_count": 140,
   "id": "b388edec",
   "metadata": {},
   "outputs": [],
   "source": [
    "from scipy.io import wavfile\n",
    "import numpy as np\n",
    "import matplotlib.pyplot as plt"
   ]
  },
  {
   "cell_type": "code",
   "execution_count": 141,
   "id": "b104ade8",
   "metadata": {},
   "outputs": [
    {
     "name": "stdout",
     "output_type": "stream",
     "text": [
      "touchtone_0 = telphone digit:0\n",
      "touchtone_1 = telphone digit:1\n",
      "touchtone_2 = telphone digit:2\n",
      "touchtone_3 = telphone digit:3\n",
      "touchtone_4 = telphone digit:4\n",
      "touchtone_5 = telphone digit:5\n",
      "touchtone_6 = telphone digit:6\n",
      "touchtone_7 = telphone digit:7\n",
      "touchtone_8 = telphone digit:8\n",
      "touchtone_9 = telphone digit:9\n"
     ]
    }
   ],
   "source": [
    "def dtmf(s, a = 0.99):\n",
    "    \n",
    "    fs_freq = 8000\n",
    "    low_freq = [697,770,852,941]\n",
    "    hi_freq = [1209,1336,1477,1633]\n",
    "    digits = {(941,1336): \"0\", (697,1209): \"1\", (697,1336): \"2\", (697,1477): \"3\", (770,1209): \"4\", (770,1336): \"5\", (770,1477): \"6\", (852,1209): \"7\", (852, 1336): \"8\", (852, 1477): \"9\"}\n",
    "    digit_list = []\n",
    "    \n",
    "    for loop in [low_freq,hi_freq]:\n",
    "        all = []\n",
    "        \n",
    "        for freq in loop:\n",
    "            k = freq/fs_freq\n",
    "            w = np.exp(1j*2*np.pi*k)\n",
    "            y_0 = 0j\n",
    "            y_1 = np.zeros(len(s),dtype = np.complex_) \n",
    "            \n",
    "            for i,x in enumerate(s):\n",
    "                y_1[i] = w *y_0 + x\n",
    "                y_0 = y_1[i] \n",
    "\n",
    "            y_2 = np.square(np.abs(y_1))\n",
    "            output = np.zeros(len(s)) \n",
    "\n",
    "            for i,x in enumerate(y_2):\n",
    "                output[i] = (1-a)*x+a\n",
    "\n",
    "            all.append(output)\n",
    "        \n",
    "        all = np.array(all)\n",
    "        freqs = np.argmax(np.sum(all,axis=1))\n",
    "        digit_list.append(np.max(freqs))\n",
    "        \n",
    "    digit = digits[low_freq[digit_list[0]],hi_freq[digit_list[1]]]\n",
    "        \n",
    "    return digit, digit_list, all\n",
    "\n",
    "for i in range(10):\n",
    "    fs_freq,s = wavfile.read(f'soundfiles/touchtone_{i}.wav')\n",
    "    digit,digit_list,all = dtmf(s)\n",
    "    print(f\"touchtone_{i} = telphone digit:{digit}\")"
   ]
  },
  {
   "cell_type": "code",
   "execution_count": 142,
   "id": "e5ce5b9c",
   "metadata": {},
   "outputs": [
    {
     "name": "stdout",
     "output_type": "stream",
     "text": [
      "The Mystery Digits are ['8', '6', '7', '5', '3', '0', '9']\n"
     ]
    }
   ],
   "source": [
    "def dtmf_robust(s, a = 0.99):\n",
    "    \n",
    "    fs_freq = 8000\n",
    "    low_freq = np.array([697,770,852,941])\n",
    "    hi_freq = np.array([1209,1336,1477,1633])\n",
    "    low_harm = low_freq * 2\n",
    "    hi_harm = hi_freq * 2\n",
    "    digits = {(941,1336): \"0\", (697,1209): \"1\", (697,1336): \"2\", (697,1477): \"3\", (770,1209): \"4\", (770,1336): \"5\", (770,1477): \"6\", (852,1209): \"7\", (852, 1336): \"8\", (852, 1477): \"9\"}\n",
    "    digit_list = []\n",
    "\n",
    "    for loop in [low_freq,low_harm,hi_freq,hi_harm]:\n",
    "        all = []\n",
    "        \n",
    "        for freq in loop:\n",
    "            k = freq/fs_freq\n",
    "            w = np.exp(1j*2*np.pi*k)\n",
    "            y_0 = 0j\n",
    "            y_1= np.zeros(len(s),dtype = np.complex_) \n",
    "            \n",
    "            for i,x in enumerate(s):\n",
    "                y_1[i] = w*y_0 + x\n",
    "                y_0 = y_1[i] \n",
    "\n",
    "            y_2 = np.square(np.abs(y_1))\n",
    "            output = np.zeros(len(s)) \n",
    "            \n",
    "            for i,x in enumerate(y_2):\n",
    "                output[i] = (1-a)*x+a\n",
    "\n",
    "            all.append(output)    \n",
    "        \n",
    "        all = np.array(all)\n",
    "        freqs = np.sum(np.square(np.abs(all)),axis=1)\n",
    "        digit_list.append(freqs)\n",
    "        \n",
    "    return digit, digit_list, all\n",
    "\n",
    "fs_freq, s = wavfile.read('soundfiles/mystery.wav')\n",
    "harmonics = [[820,2220],[2820,4220],[4820,6220],[6820,8220],[8820,10220],[10820,12220],[12820,14220],[14820,16220]]\n",
    "mystery_digits = []\n",
    "for i, ind in enumerate(harmonics):\n",
    "    x, digit_list, all = robust_dtmfdecode(s[ind[0]:ind[1]])\n",
    "    mystery_digits.append(x)\n",
    "mystery_digits = [i for i in mystery_digits if i is not None]\n",
    "print(f\"The Mystery Digits are {mystery_digits}\")\n"
   ]
  }
 ],
 "metadata": {
  "kernelspec": {
   "display_name": "Python 3 (ipykernel)",
   "language": "python",
   "name": "python3"
  },
  "language_info": {
   "codemirror_mode": {
    "name": "ipython",
    "version": 3
   },
   "file_extension": ".py",
   "mimetype": "text/x-python",
   "name": "python",
   "nbconvert_exporter": "python",
   "pygments_lexer": "ipython3",
   "version": "3.9.13"
  }
 },
 "nbformat": 4,
 "nbformat_minor": 5
}
